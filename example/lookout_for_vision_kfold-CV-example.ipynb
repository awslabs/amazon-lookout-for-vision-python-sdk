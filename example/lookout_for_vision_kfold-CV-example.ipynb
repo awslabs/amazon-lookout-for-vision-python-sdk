{
 "cells": [
  {
   "cell_type": "markdown",
   "source": [
    "# Amazon Lookout for Vision Python SDK\n",
    "\n",
    "In this notebook we will show you how to run k-fold Cross Validation with the Amazon Lookout for\n",
    "Vision Python SDK. It gives you a programmatic way of interacting with this service and adds a lot of\n",
    "helper functions that complement the service, like:\n",
    "\n",
    "* create manifest file\n",
    "* push manifest file to S3\n",
    "* check image sizes if they comply with the service\n",
    "* check image shapes if you need to rescale images\n",
    "* rescale images based on optimal shape\n",
    "* upload images to S3 in the appropriate structure\n",
    "* k-fold Cross Validation\n",
    "\n",
    "**Requirements**\n",
    "\n",
    "Have your images on locally. The anomaly images should be stored in a separate folder than the normal images.\n",
    "Also note that the only formats allowed are: jpeg, jpg and png.\n",
    "The following url describes the quotas/limitation of images for training and validation --> https://docs.aws.amazon.com/lookout-for-vision/latest/developer-guide/limits.html\n",
    "\n",
    "## Training a Model\n",
    "\n",
    "First let's set some general variables that you need:\n",
    "\n",
    "* input_bucket: the S3 bucket that contains your images for training a model\n",
    "* project_name: the unique name of the Amazon Lookout for Vision project\n",
    "* output_bucket: a bucket where your model and inference results are stored (can be same as input_bucket)\n",
    "* n_splits: number of cross validations to perform, this is equivalent to k in k-fold cross validation\n",
    "* normal: folder name containing the normal images\n",
    "* anomaly: folder name containing the anomaly images"
   ],
   "metadata": {
    "collapsed": false
   }
  },
  {
   "cell_type": "code",
   "execution_count": 1,
   "outputs": [],
   "source": [
    "# Install the SDK using pip\n",
    "#!pip uninstall lookoutvision"
   ],
   "metadata": {
    "collapsed": false,
    "pycharm": {
     "name": "#%%\n"
    }
   }
  },
  {
   "cell_type": "code",
   "execution_count": 2,
   "outputs": [],
   "source": [
    "# Import all the libraries needed to get started:\n",
    "from lookoutvision.image import Image\n",
    "from lookoutvision.lookoutvision import LookoutForVision\n",
    "import boto3"
   ],
   "metadata": {
    "collapsed": false,
    "pycharm": {
     "name": "#%%\n"
    }
   }
  },
  {
   "cell_type": "code",
   "execution_count": 3,
   "outputs": [],
   "source": [
    "input_bucket = \"YOUR_S3_BUCKET_FOR_TRAINING\"\n",
    "project_name = \"YOUR_PROJECT_NAME\"\n",
    "# Evaluation output\n",
    "output_bucket = \"YOUR_S3_BUCKET_FOR_INFERENCE\" # can be same as input_bucket\n",
    "n_splits = 3 #number of splits for k-fold Cross Validation\n",
    "normal = \"FOLDER_NAME_OF_NORMAL_IMAGES\"\n",
    "anomaly = \"FOLDER_NAME_OF_ANOMALY_IMAGES\"\n",
    "seed = 0"
   ],
   "metadata": {
    "collapsed": false,
    "pycharm": {
     "name": "#%%\n"
    }
   }
  },
  {
   "cell_type": "markdown",
   "source": [
    "Instantiate Image class to interact with your local images and upload them to S3."
   ],
   "metadata": {
    "collapsed": false
   }
  },
  {
   "cell_type": "code",
   "execution_count": 4,
   "outputs": [],
   "source": [
    "img = Image()"
   ],
   "metadata": {
    "collapsed": false,
    "pycharm": {
     "name": "#%%\n"
    }
   }
  },
  {
   "cell_type": "code",
   "execution_count": 5,
   "outputs": [
    {
     "name": "stdout",
     "output_type": "stream",
     "text": [
      "The following image is not compliant: noncloud/.DS_Store\n",
      "The following image is not compliant: cloud/.DS_Store\n",
      "{'noncloud': {'no_of_images': 51, 'compliant_images': 50, 'compliant': False, 'min_size': 64, 'max_size': 4096}, 'cloud': {'no_of_images': 51, 'compliant_images': 50, 'compliant': False, 'min_size': 64, 'max_size': 4096}}\n"
     ]
    }
   ],
   "source": [
    "# Check if your local images comply with the service\n",
    "sizes = img.check_image_sizes(verbose=False, normal=\"noncloud\", anomaly=\"cloud\")\n",
    "print(sizes)"
   ],
   "metadata": {
    "collapsed": false,
    "pycharm": {
     "name": "#%%\n"
    }
   }
  },
  {
   "cell_type": "code",
   "execution_count": 6,
   "outputs": [
    {
     "name": "stdout",
     "output_type": "stream",
     "text": [
      "The following image is not compliant: noncloud/.DS_Store\n",
      "The following image is not compliant: cloud/.DS_Store\n",
      "{'noncloud': {'no_of_images': 51, 'compliant': 50, 'status': 'Downsize images!', 'min_image_shape': (256, 256, 3), 'image_metadata': {'noncloud/train_775.jpg': (256, 256, 3), 'noncloud/train_198.jpg': (256, 256, 3), 'noncloud/train_987.jpg': (256, 256, 3), 'noncloud/train_606.jpg': (256, 256, 3), 'noncloud/train_570.jpg': (256, 256, 3), 'noncloud/train_176.jpg': (256, 256, 3), 'noncloud/train_837.jpg': (256, 256, 3), 'noncloud/train_83.jpg': (256, 256, 3), 'noncloud/train_1161.jpg': (256, 256, 3), 'noncloud/train_110.jpg': (256, 256, 3), 'noncloud/train_845.jpg': (256, 256, 3), 'noncloud/train_890.jpg': (256, 256, 3), 'noncloud/train_933.jpg': (256, 256, 3), 'noncloud/train_885.jpg': (256, 256, 3), 'noncloud/train_1016.jpg': (256, 256, 3), 'noncloud/train_329.jpg': (256, 256, 3), 'noncloud/train_937.jpg': (256, 256, 3), 'noncloud/train_658.jpg': (256, 256, 3), 'noncloud/train_894.jpg': (256, 256, 3), 'noncloud/train_300.jpg': (256, 256, 3), 'noncloud/train_314.jpg': (256, 256, 3), 'noncloud/train_1011.jpg': (256, 256, 3), 'noncloud/train_303.jpg': (256, 256, 3), 'noncloud/train_1021.jpg': (256, 256, 3), 'noncloud/train_469.jpg': (256, 256, 3), 'noncloud/train_327.jpg': (256, 256, 3), 'noncloud/train_866.jpg': (256, 256, 3), 'noncloud/train_286.jpg': (256, 256, 3), 'noncloud/train_250.jpg': (256, 256, 3), 'noncloud/train_442.jpg': (256, 256, 3), 'noncloud/train_456.jpg': (256, 256, 3), 'noncloud/train_877.jpg': (256, 256, 3), 'noncloud/train_686.jpg': (256, 256, 3), 'noncloud/train_1018.jpg': (256, 256, 3), 'noncloud/train_914.jpg': (256, 256, 3), 'noncloud/train_71.jpg': (256, 256, 3), 'noncloud/train_1193.jpg': (256, 256, 3), 'noncloud/train_134.jpg': (256, 256, 3), 'noncloud/train_153.jpg': (256, 256, 3), 'noncloud/train_635.jpg': (256, 256, 3), 'noncloud/train_580.jpg': (256, 256, 3), 'noncloud/train_186.jpg': (256, 256, 3), 'noncloud/train_1097.jpg': (256, 256, 3), 'noncloud/train_800.jpg': (256, 256, 3), 'noncloud/train_587.jpg': (256, 256, 3), 'noncloud/train_426.jpg': (256, 256, 3), 'noncloud/train_793.jpg': (256, 256, 3), 'noncloud/train_209.jpg': (256, 256, 3), 'noncloud/train_584.jpg': (256, 256, 3), 'noncloud/train_433.jpg': (256, 256, 3)}}, 'cloud': {'no_of_images': 51, 'compliant': 50, 'status': 'Downsize images!', 'min_image_shape': (256, 256, 3), 'image_metadata': {'cloud/train_33201.jpg': (256, 256, 3), 'cloud/train_33995.jpg': (256, 256, 3), 'cloud/train_40172.jpg': (256, 256, 3), 'cloud/train_29462.jpg': (256, 256, 3), 'cloud/train_39103.jpg': (256, 256, 3), 'cloud/train_23950.jpg': (256, 256, 3), 'cloud/train_22455.jpg': (256, 256, 3), 'cloud/train_20487.jpg': (256, 256, 3), 'cloud/train_40202.jpg': (256, 256, 3), 'cloud/train_23202.jpg': (256, 256, 3), 'cloud/train_24182.jpg': (256, 256, 3), 'cloud/train_32910.jpg': (256, 256, 3), 'cloud/train_19996.jpg': (256, 256, 3), 'cloud/train_27850.jpg': (256, 256, 3), 'cloud/train_18281.jpg': (256, 256, 3), 'cloud/train_38812.jpg': (256, 256, 3), 'cloud/train_19770.jpg': (256, 256, 3), 'cloud/train_27339.jpg': (256, 256, 3), 'cloud/train_39363.jpg': (256, 256, 3), 'cloud/train_35955.jpg': (256, 256, 3), 'cloud/train_19503.jpg': (256, 256, 3), 'cloud/train_24091.jpg': (256, 256, 3), 'cloud/train_37764.jpg': (256, 256, 3), 'cloud/train_32033.jpg': (256, 256, 3), 'cloud/train_29151.jpg': (256, 256, 3), 'cloud/train_36064.jpg': (256, 256, 3), 'cloud/train_22788.jpg': (256, 256, 3), 'cloud/train_32612.jpg': (256, 256, 3), 'cloud/train_24338.jpg': (256, 256, 3), 'cloud/train_28659.jpg': (256, 256, 3), 'cloud/train_36089.jpg': (256, 256, 3), 'cloud/train_20562.jpg': (256, 256, 3), 'cloud/train_23902.jpg': (256, 256, 3), 'cloud/train_18558.jpg': (256, 256, 3), 'cloud/train_37593.jpg': (256, 256, 3), 'cloud/train_22559.jpg': (256, 256, 3), 'cloud/train_35839.jpg': (256, 256, 3), 'cloud/train_20274.jpg': (256, 256, 3), 'cloud/train_33341.jpg': (256, 256, 3), 'cloud/train_30702.jpg': (256, 256, 3), 'cloud/train_27478.jpg': (256, 256, 3), 'cloud/train_22266.jpg': (256, 256, 3), 'cloud/train_35525.jpg': (256, 256, 3), 'cloud/train_19965.jpg': (256, 256, 3), 'cloud/train_31421.jpg': (256, 256, 3), 'cloud/train_21829.jpg': (256, 256, 3), 'cloud/train_37929.jpg': (256, 256, 3), 'cloud/train_18465.jpg': (256, 256, 3), 'cloud/train_20918.jpg': (256, 256, 3), 'cloud/train_38238.jpg': (256, 256, 3)}}, 'shape_recommendation': (256, 256, 3)}\n"
     ]
    }
   ],
   "source": [
    "# Check if all image shapes are the same\n",
    "shapes = img.check_image_shapes(verbose=True, normal=\"noncloud\", anomaly=\"cloud\")\n",
    "print(shapes)"
   ],
   "metadata": {
    "collapsed": false,
    "pycharm": {
     "name": "#%%\n"
    }
   }
  },
  {
   "cell_type": "code",
   "execution_count": 7,
   "outputs": [
    {
     "name": "stdout",
     "output_type": "stream",
     "text": [
      "No rescaling needed!\n",
      "{'rescaled_noncloud': 'Ok', 'rescaled_cloud': 'Ok'}\n"
     ]
    }
   ],
   "source": [
    "# If not: rescale them\n",
    "# Note: you don't need to specify a prefix. If you do a new folder is generated for you being named\n",
    "# rescaled_good and rescaled_bad. Without prefix your original images will be overwritten\n",
    "resc = img.rescale(prefix=\"rescaled_\", normal=\"noncloud\", anomaly=\"cloud\")\n",
    "print(resc)"
   ],
   "metadata": {
    "collapsed": false,
    "pycharm": {
     "name": "#%%\n"
    }
   }
  },
  {
   "cell_type": "code",
   "execution_count": 8,
   "outputs": [
    {
     "name": "stdout",
     "output_type": "stream",
     "text": [
      "Error: Methods requires folders rescaled_noncloud/ and rescaled_cloud/ with images in this location!\n",
      "{}\n"
     ]
    }
   ],
   "source": [
    "# Check again in rescaled folder (if you created it)\n",
    "sizes = img.check_image_sizes(prefix=\"rescaled_\", normal=\"noncloud\", anomaly=\"cloud\", verbose=False)\n",
    "print(sizes)"
   ],
   "metadata": {
    "collapsed": false,
    "pycharm": {
     "name": "#%%\n"
    }
   }
  },
  {
   "cell_type": "code",
   "execution_count": 9,
   "outputs": [
    {
     "name": "stdout",
     "output_type": "stream",
     "text": [
      "Error: Methods requires folders rescaled_noncloud/ and rescaled_cloud/ with images in this location!\n",
      "{}\n"
     ]
    }
   ],
   "source": [
    "# Check again in rescaled folder (if you created it)\n",
    "shapes = img.check_image_shapes(prefix=\"rescaled_\", normal=\"noncloud\", anomaly=\"cloud\", verbose=True)\n",
    "print(shapes)"
   ],
   "metadata": {
    "collapsed": false,
    "pycharm": {
     "name": "#%%\n"
    }
   }
  },
  {
   "cell_type": "markdown",
   "source": [
    "Once you prepared your images, have them all in the same shape and they comply with the service's rules you can upload them to your S3 bucket.\n",
    "Before you upload them you need to split them into k folds to run k-fold Cross Validation. In the following the images which reside in the normal\n",
    "and anomaly folders are split into n_splits different datasets."
   ],
   "metadata": {
    "collapsed": false
   }
  },
  {
   "cell_type": "code",
   "execution_count": 10,
   "outputs": [
    {
     "name": "stderr",
     "output_type": "stream",
     "text": [
      "/Users/sprzioda/Documents/Code_repos/artifacts/gitlab-amazon-lookout-for-vision-python-sdk/lookoutvision/image.py:707: VisibleDeprecationWarning: Creating an ndarray from ragged nested sequences (which is a list-or-tuple of lists-or-tuples-or ndarrays with different lengths or shapes) is deprecated. If you meant to do this, you must specify 'dtype=object' when creating the ndarray.\n",
      "  training_data_normal = np.array(normal_img)[datasets_idx]\n",
      "/Users/sprzioda/Documents/Code_repos/artifacts/gitlab-amazon-lookout-for-vision-python-sdk/lookoutvision/image.py:708: VisibleDeprecationWarning: Creating an ndarray from ragged nested sequences (which is a list-or-tuple of lists-or-tuples-or ndarrays with different lengths or shapes) is deprecated. If you meant to do this, you must specify 'dtype=object' when creating the ndarray.\n",
      "  training_data_anomaly = np.array(anomaly_img)[datasets_idx]\n"
     ]
    }
   ],
   "source": [
    "training_normal, training_anomaly, validation_normal, validation_anomaly = img.kfold_split(n_splits=n_splits,\n",
    "                                                                                           normal=normal,\n",
    "                                                                                           anomaly=anomaly,\n",
    "                                                                                           seed=0)"
   ],
   "metadata": {
    "collapsed": false,
    "pycharm": {
     "name": "#%%\n"
    }
   }
  },
  {
   "cell_type": "code",
   "execution_count": 12,
   "outputs": [
    {
     "name": "stdout",
     "output_type": "stream",
     "text": [
      "Dataset 0: Training images normal class: 33, Training images anomaly class: 33, Validation images normal class: 17, Validation images anomaly class: 17\n",
      "Dataset 1: Training images normal class: 33, Training images anomaly class: 33, Validation images normal class: 17, Validation images anomaly class: 17\n",
      "Dataset 2: Training images normal class: 34, Training images anomaly class: 34, Validation images normal class: 16, Validation images anomaly class: 16\n"
     ]
    }
   ],
   "source": [
    "for i in range(len(training_normal)):\n",
    "    print(f\"Dataset {i}: Training images normal class: {len(training_normal[i])}, \"\n",
    "          f\"Training images anomaly class: {len(training_anomaly[i])}, \"\n",
    "          f\"Validation images normal class: {len(validation_normal[i])}, \"\n",
    "          f\"Validation images anomaly class: {len(validation_anomaly[i])}\")"
   ],
   "metadata": {
    "collapsed": false,
    "pycharm": {
     "name": "#%%\n"
    }
   }
  },
  {
   "cell_type": "markdown",
   "source": [
    "The k different datsets are uploaded to S3 by utilizing the Image function kfold_upload and passing a bucket, prefix and project name"
   ],
   "metadata": {
    "collapsed": false,
    "pycharm": {
     "name": "#%% md\n"
    }
   }
  },
  {
   "cell_type": "code",
   "execution_count": 13,
   "outputs": [],
   "source": [
    "upload_data = True\n",
    "if upload_data:\n",
    "    img.kfold_upload(input_bucket, f\"amazon-lookout-for-vision-python-sdk/data/{project_name}/\", project_name,\n",
    "                 training_normal, training_anomaly, validation_normal, validation_anomaly)"
   ],
   "metadata": {
    "collapsed": false,
    "pycharm": {
     "name": "#%%\n"
    }
   }
  },
  {
   "cell_type": "markdown",
   "source": [
    "Finally the k-fold Cross Validation is performed by training k models, on k different datasets and evaluating them on k different validation sets.\n",
    "The validation results are returned with the call to train_k_fold."
   ],
   "metadata": {
    "collapsed": false,
    "pycharm": {
     "name": "#%% md\n"
    }
   }
  },
  {
   "cell_type": "code",
   "execution_count": null,
   "outputs": [
    {
     "name": "stdout",
     "output_type": "stream",
     "text": [
      "Project cloud_detection does not exist yet...use the create_project() method to set up your first project\n",
      "[('sagemaker-sabina-148244586595-eu-west-1', 'sagemaker-sabina-148244586595-eu-west-1', 'k_fold_', 0, False), ('sagemaker-sabina-148244586595-eu-west-1', 'sagemaker-sabina-148244586595-eu-west-1', 'k_fold_', 1, False), ('sagemaker-sabina-148244586595-eu-west-1', 'sagemaker-sabina-148244586595-eu-west-1', 'k_fold_', 2, False)]\n",
      "Project cloud_detection_0 does not exist yet...use the create_project() method to set up your first project\n",
      "Project cloud_detection_1 does not exist yet...use the create_project() method to set up your first project\n",
      "Creating the project: cloud_detection_0\n",
      "Creating the project: cloud_detection_1\n",
      "Creating dataset(s): Creating dataset(s): --------!\n",
      "!\n",
      "Model training started: -Model training started: --------------------------------------------------------------------------!\n"
     ]
    }
   ],
   "source": [
    "l4v = LookoutForVision(project_name=project_name)\n",
    "kfold_summary = l4v.train_k_fold(input_bucket=input_bucket,\n",
    "                                 output_bucket=input_bucket,\n",
    "                                 s3_path=f\"amazon-lookout-for-vision-python-sdk/data/{project_name}/\",\n",
    "                                 n_splits=n_splits,\n",
    "                                 parallel_training=True,\n",
    "                                 delete_kfold_projects=True)"
   ],
   "metadata": {
    "collapsed": false,
    "pycharm": {
     "name": "#%%\n",
     "is_executing": true
    }
   }
  },
  {
   "cell_type": "markdown",
   "source": [
    "View the validation results and to investigate whether your the model is overfitting to different subsets."
   ],
   "metadata": {
    "collapsed": false,
    "pycharm": {
     "name": "#%% md\n"
    }
   }
  },
  {
   "cell_type": "code",
   "execution_count": 18,
   "outputs": [
    {
     "data": {
      "text/plain": "     ROCAUC  AveragePrecision  Precision    Recall   F1Score  \\\n0  0.993080          0.993808   1.000000  0.941176  0.969697   \n1  0.958478          0.951572   0.894737  1.000000  0.944444   \n2  0.941406          0.966927   0.937500  0.937500  0.937500   \n\n          model_name  model_version  NumberOfTrainImages  NumberOfTestImages  \n0  cloud_detection_0              1                   66                  34  \n1  cloud_detection_1              1                   66                  34  \n2  cloud_detection_2              1                   68                  32  ",
      "text/html": "<div>\n<style scoped>\n    .dataframe tbody tr th:only-of-type {\n        vertical-align: middle;\n    }\n\n    .dataframe tbody tr th {\n        vertical-align: top;\n    }\n\n    .dataframe thead th {\n        text-align: right;\n    }\n</style>\n<table border=\"1\" class=\"dataframe\">\n  <thead>\n    <tr style=\"text-align: right;\">\n      <th></th>\n      <th>ROCAUC</th>\n      <th>AveragePrecision</th>\n      <th>Precision</th>\n      <th>Recall</th>\n      <th>F1Score</th>\n      <th>model_name</th>\n      <th>model_version</th>\n      <th>NumberOfTrainImages</th>\n      <th>NumberOfTestImages</th>\n    </tr>\n  </thead>\n  <tbody>\n    <tr>\n      <th>0</th>\n      <td>0.993080</td>\n      <td>0.993808</td>\n      <td>1.000000</td>\n      <td>0.941176</td>\n      <td>0.969697</td>\n      <td>cloud_detection_0</td>\n      <td>1</td>\n      <td>66</td>\n      <td>34</td>\n    </tr>\n    <tr>\n      <th>1</th>\n      <td>0.958478</td>\n      <td>0.951572</td>\n      <td>0.894737</td>\n      <td>1.000000</td>\n      <td>0.944444</td>\n      <td>cloud_detection_1</td>\n      <td>1</td>\n      <td>66</td>\n      <td>34</td>\n    </tr>\n    <tr>\n      <th>2</th>\n      <td>0.941406</td>\n      <td>0.966927</td>\n      <td>0.937500</td>\n      <td>0.937500</td>\n      <td>0.937500</td>\n      <td>cloud_detection_2</td>\n      <td>1</td>\n      <td>68</td>\n      <td>32</td>\n    </tr>\n  </tbody>\n</table>\n</div>"
     },
     "execution_count": 18,
     "metadata": {},
     "output_type": "execute_result"
    }
   ],
   "source": [
    "kfold_summary\n",
    "\n"
   ],
   "metadata": {
    "collapsed": false,
    "pycharm": {
     "name": "#%%\n"
    }
   }
  }
 ],
 "metadata": {
  "kernelspec": {
   "name": "python3",
   "language": "python",
   "display_name": "Python 3"
  },
  "language_info": {
   "codemirror_mode": {
    "name": "ipython",
    "version": 3
   },
   "file_extension": ".py",
   "mimetype": "text/x-python",
   "name": "python",
   "nbconvert_exporter": "python",
   "pygments_lexer": "ipython3",
   "version": "3.6.13"
  }
 },
 "nbformat": 4,
 "nbformat_minor": 4
}